{
 "cells": [
  {
   "cell_type": "code",
   "execution_count": 1,
   "metadata": {},
   "outputs": [
    {
     "ename": "ModuleNotFoundError",
     "evalue": "No module named 'utils'",
     "output_type": "error",
     "traceback": [
      "\u001b[1;31m---------------------------------------------------------------------------\u001b[0m",
      "\u001b[1;31mModuleNotFoundError\u001b[0m                       Traceback (most recent call last)",
      "Cell \u001b[1;32mIn[1], line 6\u001b[0m\n\u001b[0;32m      4\u001b[0m \u001b[38;5;28;01mimport\u001b[39;00m \u001b[38;5;21;01msys\u001b[39;00m\n\u001b[0;32m      5\u001b[0m sys\u001b[38;5;241m.\u001b[39mpath\u001b[38;5;241m.\u001b[39mappend(\u001b[38;5;124m'\u001b[39m\u001b[38;5;124m..\u001b[39m\u001b[38;5;124m'\u001b[39m)\n\u001b[1;32m----> 6\u001b[0m \u001b[38;5;28;01mfrom\u001b[39;00m \u001b[38;5;21;01mutils\u001b[39;00m \u001b[38;5;28;01mimport\u001b[39;00m get_data, get_continuous_chunks\n\u001b[0;32m      7\u001b[0m \u001b[38;5;28;01mfrom\u001b[39;00m \u001b[38;5;21;01mtqdm\u001b[39;00m\u001b[38;5;21;01m.\u001b[39;00m\u001b[38;5;21;01mauto\u001b[39;00m \u001b[38;5;28;01mimport\u001b[39;00m tqdm\n",
      "\u001b[1;31mModuleNotFoundError\u001b[0m: No module named 'utils'"
     ]
    }
   ],
   "source": [
    "import numpy as np\n",
    "import pandas as pd\n",
    "import matplotlib.pyplot as plt\n",
    "import sys\n",
    "sys.path.append('..')\n",
    "from utils import get_data, get_continuous_chunks\n",
    "from tqdm.auto import tqdm"
   ]
  },
  {
   "cell_type": "code",
   "execution_count": null,
   "metadata": {},
   "outputs": [],
   "source": [
    "df=get_data()"
   ]
  },
  {
   "cell_type": "code",
   "execution_count": null,
   "metadata": {},
   "outputs": [],
   "source": [
    "df=df[(df.index>='2025-04-24 06:00:00')&(df.index<='2025-04-24 14:00:00')]"
   ]
  },
  {
   "cell_type": "code",
   "execution_count": null,
   "metadata": {},
   "outputs": [],
   "source": [
    "def get_billet_start(signal, baseline=700):\n",
    "    up_mask = (signal == baseline) & (signal.shift(-1) > baseline)\n",
    "    up_transitions = signal[up_mask].index\n",
    "    return up_transitions\n",
    "\n",
    "def get_billet_end(signal, baseline=700):\n",
    "    mask = (signal == baseline) & (signal.shift(1) > baseline)\n",
    "    transition_idx = signal[mask].index\n",
    "    return transition_idx"
   ]
  },
  {
   "cell_type": "code",
   "execution_count": null,
   "metadata": {},
   "outputs": [],
   "source": [
    "stand1 = df.loc[:,'[13:0]']"
   ]
  },
  {
   "cell_type": "code",
   "execution_count": null,
   "metadata": {},
   "outputs": [],
   "source": [
    "start_times = get_billet_start(stand1)\n",
    "end_times = get_billet_end(stand1)"
   ]
  },
  {
   "cell_type": "code",
   "execution_count": null,
   "metadata": {},
   "outputs": [],
   "source": [
    "billets_groups = []\n",
    "for start_time, end_time in zip(start_times, end_times[1:]):\n",
    "    if end_time > start_time and (end_time - start_time).total_seconds() < 50:\n",
    "        s = start_time + pd.Timedelta(milliseconds=100)\n",
    "        e = end_time - pd.Timedelta(milliseconds=100)\n",
    "        d = (e-s).total_seconds()\n",
    "        billets_groups.append({\n",
    "            'start':s,\n",
    "            'end':e,\n",
    "            'duration':d\n",
    "        })"
   ]
  },
  {
   "cell_type": "code",
   "execution_count": null,
   "metadata": {},
   "outputs": [
    {
     "data": {
      "text/plain": [
       "604"
      ]
     },
     "execution_count": 102,
     "metadata": {},
     "output_type": "execute_result"
    }
   ],
   "source": [
    "len(billets_groups)"
   ]
  },
  {
   "cell_type": "code",
   "execution_count": null,
   "metadata": {},
   "outputs": [
    {
     "data": {
      "text/plain": [
       "{'start': Timestamp('2025-04-24 06:00:22.273616'),\n",
       " 'end': Timestamp('2025-04-24 06:00:45.723616'),\n",
       " 'duration': 23.45}"
      ]
     },
     "execution_count": 103,
     "metadata": {},
     "output_type": "execute_result"
    }
   ],
   "source": [
    "billets_groups[0]"
   ]
  },
  {
   "cell_type": "code",
   "execution_count": null,
   "metadata": {},
   "outputs": [],
   "source": [
    "def plot_billet(signal, group):\n",
    "    start, end = group['start'], group['end']\n",
    "    plt.figure(figsize=(12,3))\n",
    "    plt.plot(signal.loc[start:end])\n",
    "    plt.title(f\"duration: {group['duration']:.2f}\")\n",
    "    plt.show()"
   ]
  },
  {
   "cell_type": "code",
   "execution_count": null,
   "metadata": {},
   "outputs": [],
   "source": []
  },
  {
   "cell_type": "code",
   "execution_count": null,
   "metadata": {},
   "outputs": [],
   "source": [
    "def get_billet_info(signal, group):\n",
    "    time = lambda x : (x.index[-1] - x.index[0]).total_seconds()\n",
    "    start, end, duration = group['start'], group['end'],group['duration']\n",
    "    head_start = start\n",
    "    head_end = start + pd.Timedelta(seconds=0.08*duration)\n",
    "    tail_end = end\n",
    "    tail_start = end - pd.Timedelta(seconds=0.08*duration)\n",
    "    head_data = signal[(signal.index>=head_start) & (signal.index<=head_end)]\n",
    "    stable_data = signal[(signal.index>head_end) & (signal.index<tail_start)]\n",
    "    tail_data = signal[(signal.index>=tail_start) & (signal.index<=tail_end)]\n",
    "    # print(f\"head: {time(head_data)}, tail: {time(tail_data)}, stable: {time(stable_data)}\")\n",
    "    head_data_stats = {f\"head_{s}\":v for s,v in head_data.describe().to_dict().items() if all(x not in s for x in ['count','%'])}\n",
    "    tail_data_stats = {f\"tail_{s}\":v for s,v in tail_data.describe().to_dict().items() if all(x not in s for x in ['count','%'])}\n",
    "    stable_data_stats = {f\"stable_{s}\":v for s,v in stable_data.describe().to_dict().items() if all(x not in s for x in ['count','%'])}\n",
    "    stable_data_stats = dict()\n",
    "    for stable_idx, stable_batch in enumerate(np.array_split(stable_data,5)):\n",
    "        stable_batch_stats = {f\"stable_{stable_idx}_{s}\":v for s,v in stable_batch.describe().to_dict().items() if all(x not in s for x in ['count','%'])}\n",
    "        stable_data_stats.update(stable_batch_stats)\n",
    "\n",
    "    return {'start':start,'end':end,**head_data_stats,**stable_data_stats,**tail_data_stats}"
   ]
  },
  {
   "cell_type": "code",
   "execution_count": null,
   "metadata": {},
   "outputs": [
    {
     "data": {
      "image/png": "[encoded data removed]",
      "text/plain": [
       "<Figure size 1200x300 with 1 Axes>"
      ]
     },
     "metadata": {},
     "output_type": "display_data"
    },
    {
     "data": {
      "image/png": "[encoded data removed]",
      "text/plain": [
       "<Figure size 1200x300 with 1 Axes>"
      ]
     },
     "metadata": {},
     "output_type": "display_data"
    }
   ],
   "source": [
    "for idx, billet_group in enumerate(billets_groups):\n",
    "    plot_billet(stand1, billet_group)\n",
    "    if idx==1:\n",
    "        break"
   ]
  },
  {
   "cell_type": "code",
   "execution_count": null,
   "metadata": {},
   "outputs": [
    {
     "data": {
      "application/vnd.jupyter.widget-view+json": {
       "model_id": "cbf40074c8ea41ddafa863a2c5a49ff8",
       "version_major": 2,
       "version_minor": 0
      },
      "text/plain": [
       "  0%|          | 0/604 [00:00<?, ?it/s]"
      ]
     },
     "metadata": {},
     "output_type": "display_data"
    }
   ],
   "source": [
    "billet_stats = [get_billet_info(stand1,group) for group in tqdm(billets_groups)]"
   ]
  },
  {
   "cell_type": "code",
   "execution_count": null,
   "metadata": {},
   "outputs": [],
   "source": [
    "stats = pd.DataFrame(billet_stats)"
   ]
  },
  {
   "cell_type": "code",
   "execution_count": null,
   "metadata": {},
   "outputs": [
    {
     "data": {
      "text/plain": [
       "(604, 30)"
      ]
     },
     "execution_count": 112,
     "metadata": {},
     "output_type": "execute_result"
    }
   ],
   "source": [
    "stats.shape"
   ]
  },
  {
   "cell_type": "code",
   "execution_count": null,
   "metadata": {},
   "outputs": [
    {
     "data": {
      "text/html": [
       "<div>\n",
       "<style scoped>\n",
       "    .dataframe tbody tr th:only-of-type {\n",
       "        vertical-align: middle;\n",
       "    }\n",
       "\n",
       "    .dataframe tbody tr th {\n",
       "        vertical-align: top;\n",
       "    }\n",
       "\n",
       "    .dataframe thead th {\n",
       "        text-align: right;\n",
       "    }\n",
       "</style>\n",
       "<table border=\"1\" class=\"dataframe\">\n",
       "  <thead>\n",
       "    <tr style=\"text-align: right;\">\n",
       "      <th></th>\n",
       "      <th>start</th>\n",
       "      <th>end</th>\n",
       "      <th>head_mean</th>\n",
       "      <th>head_std</th>\n",
       "      <th>head_min</th>\n",
       "      <th>head_max</th>\n",
       "      <th>stable_0_mean</th>\n",
       "      <th>stable_0_std</th>\n",
       "      <th>stable_0_min</th>\n",
       "      <th>stable_0_max</th>\n",
       "      <th>...</th>\n",
       "      <th>stable_3_min</th>\n",
       "      <th>stable_3_max</th>\n",
       "      <th>stable_4_mean</th>\n",
       "      <th>stable_4_std</th>\n",
       "      <th>stable_4_min</th>\n",
       "      <th>stable_4_max</th>\n",
       "      <th>tail_mean</th>\n",
       "      <th>tail_std</th>\n",
       "      <th>tail_min</th>\n",
       "      <th>tail_max</th>\n",
       "    </tr>\n",
       "  </thead>\n",
       "  <tbody>\n",
       "    <tr>\n",
       "      <th>0</th>\n",
       "      <td>2025-04-24 06:00:22.273616</td>\n",
       "      <td>2025-04-24 06:00:45.723616</td>\n",
       "      <td>1069.814008</td>\n",
       "      <td>12.939310</td>\n",
       "      <td>1042.6000</td>\n",
       "      <td>1093.0</td>\n",
       "      <td>1058.637604</td>\n",
       "      <td>11.398204</td>\n",
       "      <td>1027.0</td>\n",
       "      <td>1082.0</td>\n",
       "      <td>...</td>\n",
       "      <td>1061.5</td>\n",
       "      <td>1102.0000</td>\n",
       "      <td>1095.786717</td>\n",
       "      <td>11.005040</td>\n",
       "      <td>1031.0</td>\n",
       "      <td>1107.0</td>\n",
       "      <td>1073.147126</td>\n",
       "      <td>36.968036</td>\n",
       "      <td>956.8000</td>\n",
       "      <td>1103.0000</td>\n",
       "    </tr>\n",
       "    <tr>\n",
       "      <th>1</th>\n",
       "      <td>2025-04-24 06:00:59.238548</td>\n",
       "      <td>2025-04-24 06:01:22.575304</td>\n",
       "      <td>1074.602316</td>\n",
       "      <td>10.480166</td>\n",
       "      <td>1035.1428</td>\n",
       "      <td>1093.0</td>\n",
       "      <td>1067.203465</td>\n",
       "      <td>6.858183</td>\n",
       "      <td>1054.0</td>\n",
       "      <td>1079.0</td>\n",
       "      <td>...</td>\n",
       "      <td>987.0</td>\n",
       "      <td>1101.0000</td>\n",
       "      <td>1092.858955</td>\n",
       "      <td>15.801483</td>\n",
       "      <td>1044.0</td>\n",
       "      <td>1109.0</td>\n",
       "      <td>1088.389900</td>\n",
       "      <td>19.364345</td>\n",
       "      <td>1030.0000</td>\n",
       "      <td>1102.0000</td>\n",
       "    </tr>\n",
       "    <tr>\n",
       "      <th>2</th>\n",
       "      <td>2025-04-24 06:01:35.725304</td>\n",
       "      <td>2025-04-24 06:01:59.173255</td>\n",
       "      <td>1076.368363</td>\n",
       "      <td>16.148232</td>\n",
       "      <td>989.5000</td>\n",
       "      <td>1092.0</td>\n",
       "      <td>1069.652404</td>\n",
       "      <td>7.079918</td>\n",
       "      <td>1051.0</td>\n",
       "      <td>1082.0</td>\n",
       "      <td>...</td>\n",
       "      <td>984.0</td>\n",
       "      <td>1103.5714</td>\n",
       "      <td>1097.219014</td>\n",
       "      <td>13.092931</td>\n",
       "      <td>1051.0</td>\n",
       "      <td>1112.0</td>\n",
       "      <td>1071.994571</td>\n",
       "      <td>33.531474</td>\n",
       "      <td>923.3000</td>\n",
       "      <td>1104.0000</td>\n",
       "    </tr>\n",
       "    <tr>\n",
       "      <th>3</th>\n",
       "      <td>2025-04-24 06:02:20.367346</td>\n",
       "      <td>2025-04-24 06:02:43.867346</td>\n",
       "      <td>1080.143337</td>\n",
       "      <td>5.667185</td>\n",
       "      <td>1067.0000</td>\n",
       "      <td>1089.0</td>\n",
       "      <td>1070.365023</td>\n",
       "      <td>7.661511</td>\n",
       "      <td>1052.0</td>\n",
       "      <td>1084.0</td>\n",
       "      <td>...</td>\n",
       "      <td>975.0</td>\n",
       "      <td>1105.0000</td>\n",
       "      <td>1100.651208</td>\n",
       "      <td>15.302309</td>\n",
       "      <td>1049.0</td>\n",
       "      <td>1118.8</td>\n",
       "      <td>1060.961168</td>\n",
       "      <td>80.472811</td>\n",
       "      <td>734.0000</td>\n",
       "      <td>1107.0000</td>\n",
       "    </tr>\n",
       "    <tr>\n",
       "      <th>4</th>\n",
       "      <td>2025-04-24 06:02:59.859969</td>\n",
       "      <td>2025-04-24 06:03:23.337912</td>\n",
       "      <td>1064.784018</td>\n",
       "      <td>60.505393</td>\n",
       "      <td>731.0000</td>\n",
       "      <td>1088.0</td>\n",
       "      <td>1069.037082</td>\n",
       "      <td>7.514884</td>\n",
       "      <td>1052.0</td>\n",
       "      <td>1081.0</td>\n",
       "      <td>...</td>\n",
       "      <td>1002.0</td>\n",
       "      <td>1108.0000</td>\n",
       "      <td>1100.704121</td>\n",
       "      <td>9.983768</td>\n",
       "      <td>1074.0</td>\n",
       "      <td>1115.0</td>\n",
       "      <td>1084.111458</td>\n",
       "      <td>23.151675</td>\n",
       "      <td>1038.0000</td>\n",
       "      <td>1110.0000</td>\n",
       "    </tr>\n",
       "    <tr>\n",
       "      <th>...</th>\n",
       "      <td>...</td>\n",
       "      <td>...</td>\n",
       "      <td>...</td>\n",
       "      <td>...</td>\n",
       "      <td>...</td>\n",
       "      <td>...</td>\n",
       "      <td>...</td>\n",
       "      <td>...</td>\n",
       "      <td>...</td>\n",
       "      <td>...</td>\n",
       "      <td>...</td>\n",
       "      <td>...</td>\n",
       "      <td>...</td>\n",
       "      <td>...</td>\n",
       "      <td>...</td>\n",
       "      <td>...</td>\n",
       "      <td>...</td>\n",
       "      <td>...</td>\n",
       "      <td>...</td>\n",
       "      <td>...</td>\n",
       "      <td>...</td>\n",
       "    </tr>\n",
       "    <tr>\n",
       "      <th>599</th>\n",
       "      <td>2025-04-24 13:45:52.333205</td>\n",
       "      <td>2025-04-24 13:46:15.783205</td>\n",
       "      <td>1054.105442</td>\n",
       "      <td>57.185268</td>\n",
       "      <td>740.5000</td>\n",
       "      <td>1075.0</td>\n",
       "      <td>1066.632959</td>\n",
       "      <td>4.790051</td>\n",
       "      <td>1056.0</td>\n",
       "      <td>1074.0</td>\n",
       "      <td>...</td>\n",
       "      <td>1046.0</td>\n",
       "      <td>1075.7142</td>\n",
       "      <td>1063.317583</td>\n",
       "      <td>4.198260</td>\n",
       "      <td>1047.2</td>\n",
       "      <td>1071.0</td>\n",
       "      <td>1035.492082</td>\n",
       "      <td>74.510116</td>\n",
       "      <td>729.5000</td>\n",
       "      <td>1077.2858</td>\n",
       "    </tr>\n",
       "    <tr>\n",
       "      <th>600</th>\n",
       "      <td>2025-04-24 13:46:29.295536</td>\n",
       "      <td>2025-04-24 13:46:52.862423</td>\n",
       "      <td>1065.253800</td>\n",
       "      <td>5.043528</td>\n",
       "      <td>1056.0000</td>\n",
       "      <td>1079.0</td>\n",
       "      <td>1062.497146</td>\n",
       "      <td>8.223580</td>\n",
       "      <td>1041.0</td>\n",
       "      <td>1076.0</td>\n",
       "      <td>...</td>\n",
       "      <td>1048.0</td>\n",
       "      <td>1078.1111</td>\n",
       "      <td>1055.581500</td>\n",
       "      <td>13.653671</td>\n",
       "      <td>1005.0</td>\n",
       "      <td>1071.0</td>\n",
       "      <td>1028.058574</td>\n",
       "      <td>84.999233</td>\n",
       "      <td>730.7500</td>\n",
       "      <td>1080.0000</td>\n",
       "    </tr>\n",
       "    <tr>\n",
       "      <th>601</th>\n",
       "      <td>2025-04-24 13:47:06.162423</td>\n",
       "      <td>2025-04-24 13:47:29.740507</td>\n",
       "      <td>1065.116084</td>\n",
       "      <td>11.975771</td>\n",
       "      <td>999.2000</td>\n",
       "      <td>1076.0</td>\n",
       "      <td>1064.188792</td>\n",
       "      <td>4.568922</td>\n",
       "      <td>1054.0</td>\n",
       "      <td>1073.0</td>\n",
       "      <td>...</td>\n",
       "      <td>1057.0</td>\n",
       "      <td>1074.0000</td>\n",
       "      <td>1064.899762</td>\n",
       "      <td>10.244918</td>\n",
       "      <td>1026.0</td>\n",
       "      <td>1076.0</td>\n",
       "      <td>1058.870179</td>\n",
       "      <td>13.951681</td>\n",
       "      <td>1005.1429</td>\n",
       "      <td>1079.0000</td>\n",
       "    </tr>\n",
       "    <tr>\n",
       "      <th>602</th>\n",
       "      <td>2025-04-24 13:47:43.490507</td>\n",
       "      <td>2025-04-24 13:48:06.990655</td>\n",
       "      <td>1066.373945</td>\n",
       "      <td>5.562361</td>\n",
       "      <td>1053.6000</td>\n",
       "      <td>1080.0</td>\n",
       "      <td>1062.588676</td>\n",
       "      <td>5.581971</td>\n",
       "      <td>1051.0</td>\n",
       "      <td>1072.0</td>\n",
       "      <td>...</td>\n",
       "      <td>1052.0</td>\n",
       "      <td>1072.8000</td>\n",
       "      <td>1055.398447</td>\n",
       "      <td>8.104704</td>\n",
       "      <td>1042.0</td>\n",
       "      <td>1073.0</td>\n",
       "      <td>1051.738875</td>\n",
       "      <td>12.807663</td>\n",
       "      <td>1006.0000</td>\n",
       "      <td>1066.0000</td>\n",
       "    </tr>\n",
       "    <tr>\n",
       "      <th>603</th>\n",
       "      <td>2025-04-24 13:48:20.502768</td>\n",
       "      <td>2025-04-24 13:48:43.802768</td>\n",
       "      <td>1068.182682</td>\n",
       "      <td>4.904866</td>\n",
       "      <td>1063.0000</td>\n",
       "      <td>1081.0</td>\n",
       "      <td>1062.869401</td>\n",
       "      <td>7.398409</td>\n",
       "      <td>1043.0</td>\n",
       "      <td>1073.0</td>\n",
       "      <td>...</td>\n",
       "      <td>1051.8</td>\n",
       "      <td>1075.0000</td>\n",
       "      <td>1062.003421</td>\n",
       "      <td>6.283376</td>\n",
       "      <td>1052.0</td>\n",
       "      <td>1074.0</td>\n",
       "      <td>1058.837995</td>\n",
       "      <td>7.482776</td>\n",
       "      <td>1049.6000</td>\n",
       "      <td>1080.0000</td>\n",
       "    </tr>\n",
       "  </tbody>\n",
       "</table>\n",
       "<p>604 rows × 30 columns</p>\n",
       "</div>"
      ],
      "text/plain": [
       "                         start                        end    head_mean  \\\n",
       "0   2025-04-24 06:00:22.273616 2025-04-24 06:00:45.723616  1069.814008   \n",
       "1   2025-04-24 06:00:59.238548 2025-04-24 06:01:22.575304  1074.602316   \n",
       "2   2025-04-24 06:01:35.725304 2025-04-24 06:01:59.173255  1076.368363   \n",
       "3   2025-04-24 06:02:20.367346 2025-04-24 06:02:43.867346  1080.143337   \n",
       "4   2025-04-24 06:02:59.859969 2025-04-24 06:03:23.337912  1064.784018   \n",
       "..                         ...                        ...          ...   \n",
       "599 2025-04-24 13:45:52.333205 2025-04-24 13:46:15.783205  1054.105442   \n",
       "600 2025-04-24 13:46:29.295536 2025-04-24 13:46:52.862423  1065.253800   \n",
       "601 2025-04-24 13:47:06.162423 2025-04-24 13:47:29.740507  1065.116084   \n",
       "602 2025-04-24 13:47:43.490507 2025-04-24 13:48:06.990655  1066.373945   \n",
       "603 2025-04-24 13:48:20.502768 2025-04-24 13:48:43.802768  1068.182682   \n",
       "\n",
       "      head_std   head_min  head_max  stable_0_mean  stable_0_std  \\\n",
       "0    12.939310  1042.6000    1093.0    1058.637604     11.398204   \n",
       "1    10.480166  1035.1428    1093.0    1067.203465      6.858183   \n",
       "2    16.148232   989.5000    1092.0    1069.652404      7.079918   \n",
       "3     5.667185  1067.0000    1089.0    1070.365023      7.661511   \n",
       "4    60.505393   731.0000    1088.0    1069.037082      7.514884   \n",
       "..         ...        ...       ...            ...           ...   \n",
       "599  57.185268   740.5000    1075.0    1066.632959      4.790051   \n",
       "600   5.043528  1056.0000    1079.0    1062.497146      8.223580   \n",
       "601  11.975771   999.2000    1076.0    1064.188792      4.568922   \n",
       "602   5.562361  1053.6000    1080.0    1062.588676      5.581971   \n",
       "603   4.904866  1063.0000    1081.0    1062.869401      7.398409   \n",
       "\n",
       "     stable_0_min  stable_0_max  ...  stable_3_min  stable_3_max  \\\n",
       "0          1027.0        1082.0  ...        1061.5     1102.0000   \n",
       "1          1054.0        1079.0  ...         987.0     1101.0000   \n",
       "2          1051.0        1082.0  ...         984.0     1103.5714   \n",
       "3          1052.0        1084.0  ...         975.0     1105.0000   \n",
       "4          1052.0        1081.0  ...        1002.0     1108.0000   \n",
       "..            ...           ...  ...           ...           ...   \n",
       "599        1056.0        1074.0  ...        1046.0     1075.7142   \n",
       "600        1041.0        1076.0  ...        1048.0     1078.1111   \n",
       "601        1054.0        1073.0  ...        1057.0     1074.0000   \n",
       "602        1051.0        1072.0  ...        1052.0     1072.8000   \n",
       "603        1043.0        1073.0  ...        1051.8     1075.0000   \n",
       "\n",
       "     stable_4_mean  stable_4_std  stable_4_min  stable_4_max    tail_mean  \\\n",
       "0      1095.786717     11.005040        1031.0        1107.0  1073.147126   \n",
       "1      1092.858955     15.801483        1044.0        1109.0  1088.389900   \n",
       "2      1097.219014     13.092931        1051.0        1112.0  1071.994571   \n",
       "3      1100.651208     15.302309        1049.0        1118.8  1060.961168   \n",
       "4      1100.704121      9.983768        1074.0        1115.0  1084.111458   \n",
       "..             ...           ...           ...           ...          ...   \n",
       "599    1063.317583      4.198260        1047.2        1071.0  1035.492082   \n",
       "600    1055.581500     13.653671        1005.0        1071.0  1028.058574   \n",
       "601    1064.899762     10.244918        1026.0        1076.0  1058.870179   \n",
       "602    1055.398447      8.104704        1042.0        1073.0  1051.738875   \n",
       "603    1062.003421      6.283376        1052.0        1074.0  1058.837995   \n",
       "\n",
       "      tail_std   tail_min   tail_max  \n",
       "0    36.968036   956.8000  1103.0000  \n",
       "1    19.364345  1030.0000  1102.0000  \n",
       "2    33.531474   923.3000  1104.0000  \n",
       "3    80.472811   734.0000  1107.0000  \n",
       "4    23.151675  1038.0000  1110.0000  \n",
       "..         ...        ...        ...  \n",
       "599  74.510116   729.5000  1077.2858  \n",
       "600  84.999233   730.7500  1080.0000  \n",
       "601  13.951681  1005.1429  1079.0000  \n",
       "602  12.807663  1006.0000  1066.0000  \n",
       "603   7.482776  1049.6000  1080.0000  \n",
       "\n",
       "[604 rows x 30 columns]"
      ]
     },
     "execution_count": 114,
     "metadata": {},
     "output_type": "execute_result"
    }
   ],
   "source": [
    "stats"
   ]
  },
  {
   "cell_type": "code",
   "execution_count": null,
   "metadata": {},
   "outputs": [],
   "source": [
    "groups = stats.groupby(pd.Grouper(freq='57min',key='start'))\n",
    "chunks = [c[1] for c in groups]"
   ]
  },
  {
   "cell_type": "code",
   "execution_count": null,
   "metadata": {},
   "outputs": [],
   "source": [
    "stats.to_csv('billet-profile_24-04-2025_A-SHIFT_16mm_STAND1_ENTRY.csv',index=False)"
   ]
  }
 ],
 "metadata": {
  "kernelspec": {
   "display_name": "base",
   "language": "python",
   "name": "python3"
  },
  "language_info": {
   "codemirror_mode": {
    "name": "ipython",
    "version": 3
   },
   "file_extension": ".py",
   "mimetype": "text/x-python",
   "name": "python",
   "nbconvert_exporter": "python",
   "pygments_lexer": "ipython3",
   "version": "3.12.3"
  }
 },
 "nbformat": 4,
 "nbformat_minor": 2
}
